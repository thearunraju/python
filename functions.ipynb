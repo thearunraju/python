{
 "cells": [
  {
   "cell_type": "code",
   "execution_count": 9,
   "id": "7b8e1d3d-9f06-46c5-b048-8ae409f43821",
   "metadata": {},
   "outputs": [
    {
     "data": {
      "text/plain": [
       "11"
      ]
     },
     "execution_count": 9,
     "metadata": {},
     "output_type": "execute_result"
    }
   ],
   "source": [
    "def calc_sum(a,b):\n",
    "    return (a+b)\n",
    "\n",
    "calc_sum(5,6)"
   ]
  },
  {
   "cell_type": "code",
   "execution_count": 11,
   "id": "59656112-3224-45bb-a05b-9f5c8e5bfcdb",
   "metadata": {},
   "outputs": [
    {
     "data": {
      "text/plain": [
       "6.333333333333333"
      ]
     },
     "execution_count": 11,
     "metadata": {},
     "output_type": "execute_result"
    }
   ],
   "source": [
    "def calc_avg(a,b,c):\n",
    "    return ((a+b+c)/3)\n",
    "\n",
    "calc_avg(5,6,8)"
   ]
  },
  {
   "cell_type": "code",
   "execution_count": 13,
   "id": "ecb10e5e-1973-4859-b8e0-9fee3c428532",
   "metadata": {},
   "outputs": [],
   "source": [
    "# There are 2 types of functions in Python. \n",
    "# (1)Built in functions: which already come pre-defined in Python. Eg: len(), print(), type(), range() etc.\n",
    "# (2)User defined functions: created by the programmer using def. Eg: (functions shown above)\n",
    "\n",
    "# Parameters : Parameters are placeholders or variables listed inside the paranthesis in the function definition.\n",
    "# Arguments : Arguments are the actual values that are passed when a funtion is called."
   ]
  },
  {
   "cell_type": "code",
   "execution_count": 15,
   "id": "a7bbcc6a-7099-488b-a0c6-b333d46987f5",
   "metadata": {},
   "outputs": [
    {
     "name": "stdout",
     "output_type": "stream",
     "text": [
      "5\n",
      "3\n"
     ]
    }
   ],
   "source": [
    "# wap to print the length of a list\n",
    "\n",
    "cities = [\"Kochi\", \"Bangalore\", \"Delhi\", \"Chennai\", \"Kolkata\"]\n",
    "cars = [\"KIA\", \"Maruthi Suzuki\", \"BMW\"]\n",
    "\n",
    "def print_len(list):\n",
    "    print(len(list))\n",
    "\n",
    "print_len(cities)\n",
    "print_len(cars)\n",
    "\n"
   ]
  },
  {
   "cell_type": "code",
   "execution_count": 17,
   "id": "5c58522a-f4c7-4b37-a3a4-e00a766b9f2d",
   "metadata": {},
   "outputs": [
    {
     "name": "stdout",
     "output_type": "stream",
     "text": [
      "Kochi Bangalore Delhi Chennai Kolkata "
     ]
    }
   ],
   "source": [
    "# wap to print the elements of a list in a single line\n",
    "\n",
    "def print_list(list):\n",
    "    for items in list:\n",
    "        print(items, end=\" \")\n",
    "\n",
    "print_list(cities)"
   ]
  },
  {
   "cell_type": "code",
   "execution_count": 21,
   "id": "a9831e10-cb12-485e-8fa0-473ded07d390",
   "metadata": {},
   "outputs": [
    {
     "name": "stdin",
     "output_type": "stream",
     "text": [
      "Enter first number 5\n",
      "Enter second number 5\n"
     ]
    },
    {
     "name": "stdout",
     "output_type": "stream",
     "text": [
      "Enter 1 for addition/nEnter 2 for subtraction/nEnter 3 for multiplication/nEnter 4 for division\n"
     ]
    },
    {
     "name": "stdin",
     "output_type": "stream",
     "text": [
      "Enter your choice (1-4):  4\n"
     ]
    },
    {
     "name": "stdout",
     "output_type": "stream",
     "text": [
      "Result after the division of entered numbers is:  1.0\n"
     ]
    }
   ],
   "source": [
    "# Write a menu driven program to do the basic mathematical operations such as addition, subtraction, multiplication and division\n",
    "\n",
    "def add(a,b):\n",
    "    return (a+b)\n",
    "\n",
    "def sub(a,b):\n",
    "    return (a-b)\n",
    "\n",
    "def div(a,b):\n",
    "    return (a/b)\n",
    "\n",
    "def prod(a,b):\n",
    "    return (a*b)\n",
    "\n",
    "num1 = float(input(\"Enter first number\"))\n",
    "num2 = float(input(\"Enter second number\"))\n",
    "\n",
    "print(\"Enter 1 for addition/nEnter 2 for subtraction/nEnter 3 for multiplication/nEnter 4 for division\")\n",
    "choice = int(input(\"Enter your choice (1-4): \"))\n",
    "\n",
    "if choice == 1:\n",
    "    print(\"Sum of the entered numbers is: \", add(num1,num2))\n",
    "elif choice == 2:\n",
    "    print(\"Difference between the entered numbers is: \", sub(num1,num2))\n",
    "elif choice == 3:\n",
    "    print(\"Product of the entered numbers is: \", prod(num1,num2))\n",
    "elif choice == 4:\n",
    "    if num2 != 0:\n",
    "        print(\"Result after the division of entered numbers is: \", div(num1,num2))\n",
    "    else:\n",
    "        print(\"Cannot divide by zero\")\n",
    "else:\n",
    "    print(\"Invalid input\")"
   ]
  },
  {
   "cell_type": "code",
   "execution_count": 23,
   "id": "69e5646e-fc2e-4207-843f-a4d741cb9721",
   "metadata": {},
   "outputs": [
    {
     "name": "stdout",
     "output_type": "stream",
     "text": [
      "1 \n",
      "1 2 \n",
      "1 2 3 \n",
      "1 2 3 4 \n"
     ]
    }
   ],
   "source": [
    "for i in range (1,5):\n",
    "    for j in range (1,i+1):\n",
    "        print(j, end =\" \")\n",
    "    print()"
   ]
  }
 ],
 "metadata": {
  "kernelspec": {
   "display_name": "Python [conda env:base] *",
   "language": "python",
   "name": "conda-base-py"
  },
  "language_info": {
   "codemirror_mode": {
    "name": "ipython",
    "version": 3
   },
   "file_extension": ".py",
   "mimetype": "text/x-python",
   "name": "python",
   "nbconvert_exporter": "python",
   "pygments_lexer": "ipython3",
   "version": "3.12.7"
  }
 },
 "nbformat": 4,
 "nbformat_minor": 5
}
