{
 "cells": [
  {
   "cell_type": "code",
   "execution_count": 1,
   "id": "1c27ff20-6081-4d41-9e97-84da82f5d403",
   "metadata": {},
   "outputs": [
    {
     "name": "stdin",
     "output_type": "stream",
     "text": [
      "Enter marks:  78\n"
     ]
    },
    {
     "name": "stdout",
     "output_type": "stream",
     "text": [
      "Your grade is C\n"
     ]
    }
   ],
   "source": [
    "mark = float(input(\"Enter marks: \"))\n",
    "\n",
    "if mark >= 90:\n",
    " print(\"Your grade is A\")\n",
    "elif 80 <= mark < 90:\n",
    " print(\"Your grade is B\")\n",
    "elif 70 <= mark < 80:\n",
    " print(\"Your grade is C\")\n",
    "elif 60 <= mark < 70:\n",
    " print(\"Your grade is D\")\n",
    "elif 50 <= mark < 60:\n",
    " print(\"Your grade is E\")\n",
    "elif mark <50:\n",
    " print(\"Failed\")"
   ]
  },
  {
   "cell_type": "code",
   "execution_count": null,
   "id": "87a9da12-18ab-4731-bf69-7128b460d287",
   "metadata": {},
   "outputs": [],
   "source": []
  }
 ],
 "metadata": {
  "kernelspec": {
   "display_name": "Python [conda env:base] *",
   "language": "python",
   "name": "conda-base-py"
  },
  "language_info": {
   "codemirror_mode": {
    "name": "ipython",
    "version": 3
   },
   "file_extension": ".py",
   "mimetype": "text/x-python",
   "name": "python",
   "nbconvert_exporter": "python",
   "pygments_lexer": "ipython3",
   "version": "3.12.7"
  }
 },
 "nbformat": 4,
 "nbformat_minor": 5
}
