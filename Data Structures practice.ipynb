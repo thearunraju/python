{
 "cells": [
  {
   "cell_type": "code",
   "execution_count": 9,
   "id": "ae7c4e84-2514-4e72-bb9a-83ad05bf25f0",
   "metadata": {},
   "outputs": [],
   "source": [
    "student = {\n",
    "    \"name\" : \"Rahul Kumar\",\n",
    "    \"subjects\" : {\n",
    "        \"Phy\" :97,\n",
    "        \"chem\" : 98,\n",
    "        \"math\" : 100\n",
    "    }\n",
    "}"
   ]
  },
  {
   "cell_type": "code",
   "execution_count": 13,
   "id": "660d67ca-57c7-471d-9acd-9e0179f97b93",
   "metadata": {},
   "outputs": [
    {
     "name": "stdout",
     "output_type": "stream",
     "text": [
      "dict_keys(['name', 'subjects'])\n"
     ]
    }
   ],
   "source": [
    "print(student.keys())"
   ]
  },
  {
   "cell_type": "code",
   "execution_count": 15,
   "id": "b786895f-2f71-491a-8812-29ce86e697a9",
   "metadata": {},
   "outputs": [
    {
     "name": "stdout",
     "output_type": "stream",
     "text": [
      "['name', 'subjects']\n"
     ]
    }
   ],
   "source": [
    "print(list(student.keys()))"
   ]
  },
  {
   "cell_type": "code",
   "execution_count": 21,
   "id": "3e076d78-e61b-422f-ac3a-8eb9518242bb",
   "metadata": {},
   "outputs": [
    {
     "name": "stdout",
     "output_type": "stream",
     "text": [
      "2\n"
     ]
    }
   ],
   "source": [
    "print(len(list(student.keys())))"
   ]
  },
  {
   "cell_type": "code",
   "execution_count": 23,
   "id": "bc840841-e2ee-4739-a4ea-72afc73bb020",
   "metadata": {},
   "outputs": [
    {
     "name": "stdout",
     "output_type": "stream",
     "text": [
      "['Rahul Kumar', {'Phy': 97, 'chem': 98, 'math': 100}]\n"
     ]
    }
   ],
   "source": [
    "print(list(student.values()))"
   ]
  },
  {
   "cell_type": "code",
   "execution_count": 25,
   "id": "347002eb-19e0-439d-a340-d45200dbd408",
   "metadata": {},
   "outputs": [
    {
     "name": "stdout",
     "output_type": "stream",
     "text": [
      "dict_items([('name', 'Rahul Kumar'), ('subjects', {'Phy': 97, 'chem': 98, 'math': 100})])\n"
     ]
    }
   ],
   "source": [
    "print(student.items())"
   ]
  },
  {
   "cell_type": "code",
   "execution_count": 27,
   "id": "ac53bd3c-5cf7-4ea9-b90e-3430c95ff217",
   "metadata": {},
   "outputs": [
    {
     "name": "stdout",
     "output_type": "stream",
     "text": [
      "[('name', 'Rahul Kumar'), ('subjects', {'Phy': 97, 'chem': 98, 'math': 100})]\n"
     ]
    }
   ],
   "source": [
    "print(list(student.items()))"
   ]
  },
  {
   "cell_type": "code",
   "execution_count": 33,
   "id": "2320586b-635c-4164-bb14-2a901bc5073b",
   "metadata": {},
   "outputs": [
    {
     "name": "stdout",
     "output_type": "stream",
     "text": [
      "Rahul Kumar\n"
     ]
    }
   ],
   "source": [
    "print(student[\"name\"])"
   ]
  },
  {
   "cell_type": "code",
   "execution_count": 35,
   "id": "960e9720-92fd-4e93-90f7-ca0123eecc00",
   "metadata": {},
   "outputs": [
    {
     "name": "stdout",
     "output_type": "stream",
     "text": [
      "Rahul Kumar\n"
     ]
    }
   ],
   "source": [
    "print(student.get(\"name\"))"
   ]
  },
  {
   "cell_type": "code",
   "execution_count": 39,
   "id": "7df38663-09af-4636-967e-12111659478e",
   "metadata": {},
   "outputs": [
    {
     "name": "stdout",
     "output_type": "stream",
     "text": [
      "None\n"
     ]
    }
   ],
   "source": [
    "print(student.get(\"name2\"))"
   ]
  },
  {
   "cell_type": "code",
   "execution_count": 41,
   "id": "90c1f61b-bb65-465a-8966-d94314d616fc",
   "metadata": {},
   "outputs": [],
   "source": [
    "#it is good to use the dict.get() method because it will return None if no such key exists in the dictionary, while the earlier will return error and crash the program."
   ]
  },
  {
   "cell_type": "code",
   "execution_count": 43,
   "id": "6f7c2f32-87ff-4b6c-9325-32559ac279c5",
   "metadata": {},
   "outputs": [],
   "source": [
    "collection = {1,2,3,\"Hello\",2,2,3,3}"
   ]
  },
  {
   "cell_type": "code",
   "execution_count": 47,
   "id": "32eb3955-325a-43bf-b390-c3b351eed3aa",
   "metadata": {},
   "outputs": [
    {
     "name": "stdout",
     "output_type": "stream",
     "text": [
      "<class 'set'>\n"
     ]
    }
   ],
   "source": [
    "print(type(collection))"
   ]
  },
  {
   "cell_type": "code",
   "execution_count": 49,
   "id": "a33775c7-01dc-43e4-838c-150dcf47c336",
   "metadata": {},
   "outputs": [
    {
     "name": "stdout",
     "output_type": "stream",
     "text": [
      "{1, 2, 3, 'Hello'}\n"
     ]
    }
   ],
   "source": [
    "print(collection)"
   ]
  },
  {
   "cell_type": "code",
   "execution_count": 51,
   "id": "4e5d26b7-bb45-4632-bd37-8b673b49d173",
   "metadata": {},
   "outputs": [
    {
     "name": "stdout",
     "output_type": "stream",
     "text": [
      "[1, 2, 3, 'Hello']\n"
     ]
    }
   ],
   "source": [
    "print(list(collection))"
   ]
  },
  {
   "cell_type": "code",
   "execution_count": 53,
   "id": "c05f0d9c-87f4-4afc-b575-b183113fbeb7",
   "metadata": {},
   "outputs": [
    {
     "name": "stdout",
     "output_type": "stream",
     "text": [
      "{1, 2, 3, 'Hello'}\n"
     ]
    }
   ],
   "source": [
    "print(collection)"
   ]
  },
  {
   "cell_type": "code",
   "execution_count": 59,
   "id": "1ab56a27-ff7f-438e-a0f6-c4e574ec2faf",
   "metadata": {},
   "outputs": [],
   "source": [
    "names = [\"James\", \"Arun\", \"Jane\", \"Sarath\", \"Jimmy\"]\n",
    "\n",
    "j_names = []"
   ]
  },
  {
   "cell_type": "code",
   "execution_count": 63,
   "id": "3c10ce32-3e50-44c9-b0f1-1cff08e94fb6",
   "metadata": {},
   "outputs": [
    {
     "name": "stdout",
     "output_type": "stream",
     "text": [
      "['James', 'Jane', 'Jimmy']\n"
     ]
    }
   ],
   "source": [
    "for name in names:\n",
    "    if \"J\" in name:\n",
    "        j_names.append(name)\n",
    "\n",
    "print(j_names)"
   ]
  },
  {
   "cell_type": "code",
   "execution_count": 65,
   "id": "60b261c6-8649-4771-ab3f-9d9822a60e3e",
   "metadata": {},
   "outputs": [],
   "source": [
    "names_copy = []\n",
    "for name in names:\n",
    "    names_copy.append(name)"
   ]
  },
  {
   "cell_type": "code",
   "execution_count": 67,
   "id": "0591ba4e-f4d5-462a-8cf2-65fa422ee417",
   "metadata": {},
   "outputs": [
    {
     "name": "stdout",
     "output_type": "stream",
     "text": [
      "['James', 'Arun', 'Jane', 'Sarath', 'Jimmy']\n"
     ]
    }
   ],
   "source": [
    "print(names_copy)"
   ]
  },
  {
   "cell_type": "code",
   "execution_count": 69,
   "id": "03d1bf46-032c-44cd-84c8-6c05b0e9183c",
   "metadata": {},
   "outputs": [
    {
     "name": "stdout",
     "output_type": "stream",
     "text": [
      "{100, 70, 40, 10, 80, 50, 20, 90, 60, 30}\n"
     ]
    }
   ],
   "source": [
    "result = {10*i for i in range(1,11)}\n",
    "print(result)"
   ]
  },
  {
   "cell_type": "code",
   "execution_count": 71,
   "id": "c137ad1d-efb6-4e62-ab42-db5a5115449d",
   "metadata": {},
   "outputs": [
    {
     "name": "stdout",
     "output_type": "stream",
     "text": [
      "{100, 70, 40, 10, 80, 50, 20, 90, 60, 30}\n"
     ]
    }
   ],
   "source": [
    "print(result)"
   ]
  },
  {
   "cell_type": "code",
   "execution_count": 75,
   "id": "bf4567bf-3c06-47a7-bf1f-ba50487b3749",
   "metadata": {},
   "outputs": [],
   "source": [
    "result = [10*i for i in range(1,11)]"
   ]
  },
  {
   "cell_type": "code",
   "execution_count": 77,
   "id": "abe26e0b-15a2-4d8f-b8e0-a3efc178673c",
   "metadata": {},
   "outputs": [
    {
     "name": "stdout",
     "output_type": "stream",
     "text": [
      "[10, 20, 30, 40, 50, 60, 70, 80, 90, 100]\n"
     ]
    }
   ],
   "source": [
    "print(result)"
   ]
  },
  {
   "cell_type": "code",
   "execution_count": 81,
   "id": "26b2cea8-5873-4a2b-bb51-7ec07291fb27",
   "metadata": {},
   "outputs": [],
   "source": [
    "tuple_compr = tuple( 10 * i for i in range(1,11))"
   ]
  },
  {
   "cell_type": "code",
   "execution_count": 83,
   "id": "066f1673-93ca-4129-a67f-b8146da19d2d",
   "metadata": {},
   "outputs": [
    {
     "name": "stdout",
     "output_type": "stream",
     "text": [
      "(10, 20, 30, 40, 50, 60, 70, 80, 90, 100)\n"
     ]
    }
   ],
   "source": [
    "print(tuple_compr)"
   ]
  },
  {
   "cell_type": "code",
   "execution_count": 85,
   "id": "11617f04-730e-4654-bb61-a0854daabcc0",
   "metadata": {},
   "outputs": [],
   "source": [
    "even_list = [ 10 * i for i in range(1,11) if i%2 == 0 ]"
   ]
  },
  {
   "cell_type": "code",
   "execution_count": 87,
   "id": "ab5854a7-6700-41e8-957c-bb4e88e50c91",
   "metadata": {},
   "outputs": [
    {
     "name": "stdout",
     "output_type": "stream",
     "text": [
      "[20, 40, 60, 80, 100]\n"
     ]
    }
   ],
   "source": [
    "print(even_list)"
   ]
  },
  {
   "cell_type": "code",
   "execution_count": 91,
   "id": "1c52fba7-28e1-4422-b83f-6a41d0ce4356",
   "metadata": {},
   "outputs": [],
   "source": [
    "odd_list = tuple( 10 * i for i in range(1,11) if i%2 != 0 )"
   ]
  },
  {
   "cell_type": "code",
   "execution_count": 93,
   "id": "ef872c33-aa42-4495-b612-23c901ca65c0",
   "metadata": {},
   "outputs": [
    {
     "name": "stdout",
     "output_type": "stream",
     "text": [
      "(10, 30, 50, 70, 90)\n"
     ]
    }
   ],
   "source": [
    "print(odd_list)"
   ]
  },
  {
   "cell_type": "code",
   "execution_count": 95,
   "id": "98eafe1f-698c-4304-9961-9e46769508f8",
   "metadata": {},
   "outputs": [
    {
     "data": {
      "text/plain": [
       "[10, 20, 30, 40, 50, 60, 70, 80, 90, 100]"
      ]
     },
     "execution_count": 95,
     "metadata": {},
     "output_type": "execute_result"
    }
   ],
   "source": [
    "list(range(10,101,10))"
   ]
  },
  {
   "cell_type": "code",
   "execution_count": 99,
   "id": "4f3f8fe9-cd23-4892-9dc8-dedede621471",
   "metadata": {},
   "outputs": [
    {
     "data": {
      "text/plain": [
       "(3,\n",
       " 6,\n",
       " 9,\n",
       " 12,\n",
       " 15,\n",
       " 18,\n",
       " 21,\n",
       " 24,\n",
       " 27,\n",
       " 30,\n",
       " 33,\n",
       " 36,\n",
       " 39,\n",
       " 42,\n",
       " 45,\n",
       " 48,\n",
       " 51,\n",
       " 54,\n",
       " 57,\n",
       " 60,\n",
       " 63,\n",
       " 66,\n",
       " 69,\n",
       " 72,\n",
       " 75,\n",
       " 78,\n",
       " 81,\n",
       " 84,\n",
       " 87,\n",
       " 90,\n",
       " 93,\n",
       " 96,\n",
       " 99,\n",
       " 102,\n",
       " 105,\n",
       " 108,\n",
       " 111,\n",
       " 114,\n",
       " 117,\n",
       " 120,\n",
       " 123,\n",
       " 126,\n",
       " 129,\n",
       " 132,\n",
       " 135,\n",
       " 138,\n",
       " 141,\n",
       " 144,\n",
       " 147,\n",
       " 150,\n",
       " 153,\n",
       " 156,\n",
       " 159,\n",
       " 162,\n",
       " 165,\n",
       " 168,\n",
       " 171,\n",
       " 174,\n",
       " 177,\n",
       " 180,\n",
       " 183,\n",
       " 186,\n",
       " 189,\n",
       " 192,\n",
       " 195,\n",
       " 198,\n",
       " 201,\n",
       " 204,\n",
       " 207,\n",
       " 210,\n",
       " 213,\n",
       " 216,\n",
       " 219,\n",
       " 222,\n",
       " 225,\n",
       " 228,\n",
       " 231,\n",
       " 234,\n",
       " 237,\n",
       " 240,\n",
       " 243,\n",
       " 246,\n",
       " 249,\n",
       " 252,\n",
       " 255,\n",
       " 258,\n",
       " 261,\n",
       " 264,\n",
       " 267,\n",
       " 270,\n",
       " 273,\n",
       " 276,\n",
       " 279,\n",
       " 282,\n",
       " 285,\n",
       " 288,\n",
       " 291,\n",
       " 294,\n",
       " 297,\n",
       " 300)"
      ]
     },
     "execution_count": 99,
     "metadata": {},
     "output_type": "execute_result"
    }
   ],
   "source": [
    "tuple(range(3,301,3))"
   ]
  },
  {
   "cell_type": "code",
   "execution_count": 101,
   "id": "660d57c1-44e2-4899-bcba-bb1416eb2839",
   "metadata": {},
   "outputs": [],
   "source": [
    "result = [(x,y) for x in range(1,5) for y in range(1,4)]"
   ]
  },
  {
   "cell_type": "code",
   "execution_count": 103,
   "id": "5f002e3e-6c18-4b27-ac0c-11f48676f759",
   "metadata": {},
   "outputs": [
    {
     "name": "stdout",
     "output_type": "stream",
     "text": [
      "[(1, 1), (1, 2), (1, 3), (2, 1), (2, 2), (2, 3), (3, 1), (3, 2), (3, 3), (4, 1), (4, 2), (4, 3)]\n"
     ]
    }
   ],
   "source": [
    "print(result)"
   ]
  },
  {
   "cell_type": "code",
   "execution_count": 107,
   "id": "d5773ffd-caf6-46f3-9155-5c4db64289a3",
   "metadata": {},
   "outputs": [
    {
     "data": {
      "text/plain": [
       "[2,\n",
       " 4,\n",
       " 6,\n",
       " 8,\n",
       " 10,\n",
       " 12,\n",
       " 14,\n",
       " 16,\n",
       " 18,\n",
       " 20,\n",
       " 22,\n",
       " 24,\n",
       " 26,\n",
       " 28,\n",
       " 30,\n",
       " 32,\n",
       " 34,\n",
       " 36,\n",
       " 38,\n",
       " 40,\n",
       " 42,\n",
       " 44,\n",
       " 46,\n",
       " 48,\n",
       " 50,\n",
       " 52,\n",
       " 54,\n",
       " 56,\n",
       " 58,\n",
       " 60,\n",
       " 62,\n",
       " 64,\n",
       " 66,\n",
       " 68,\n",
       " 70,\n",
       " 72,\n",
       " 74,\n",
       " 76,\n",
       " 78,\n",
       " 80,\n",
       " 82,\n",
       " 84,\n",
       " 86,\n",
       " 88,\n",
       " 90,\n",
       " 92,\n",
       " 94,\n",
       " 96,\n",
       " 98,\n",
       " 100]"
      ]
     },
     "execution_count": 107,
     "metadata": {},
     "output_type": "execute_result"
    }
   ],
   "source": [
    "list(range(2,101,2))"
   ]
  },
  {
   "cell_type": "code",
   "execution_count": 111,
   "id": "c279f2f6-ac7f-4fa2-ad5f-f67d2e565d3d",
   "metadata": {},
   "outputs": [
    {
     "name": "stdout",
     "output_type": "stream",
     "text": [
      "5\n",
      "4\n",
      "9\n",
      "2\n",
      "1\n"
     ]
    }
   ],
   "source": [
    "from array import *\n",
    "\n",
    "vals = array('i', [5,4,9,2,1])\n",
    "\n",
    "for i in range(0, len(vals)):\n",
    "    print(vals[i])"
   ]
  },
  {
   "cell_type": "code",
   "execution_count": 113,
   "id": "75371639-b9a8-47a3-bbfd-68a96e6091e0",
   "metadata": {},
   "outputs": [
    {
     "name": "stdout",
     "output_type": "stream",
     "text": [
      "5\n"
     ]
    }
   ],
   "source": [
    "print(len(vals))"
   ]
  },
  {
   "cell_type": "code",
   "execution_count": 115,
   "id": "7e55ac18-2f04-4218-a3a1-4225b5e4eb14",
   "metadata": {},
   "outputs": [],
   "source": [
    "def calc_sum(a,b):\n",
    "    sum = a+b\n",
    "    return sum"
   ]
  },
  {
   "cell_type": "code",
   "execution_count": 117,
   "id": "0b3a9dbf-86aa-44ac-b22e-5ce3a6dc5d77",
   "metadata": {},
   "outputs": [
    {
     "data": {
      "text/plain": [
       "11"
      ]
     },
     "execution_count": 117,
     "metadata": {},
     "output_type": "execute_result"
    }
   ],
   "source": [
    "calc_sum(5,6)"
   ]
  },
  {
   "cell_type": "code",
   "execution_count": 5,
   "id": "3f6a68db-a9fe-4a5e-a12f-1c5173763253",
   "metadata": {},
   "outputs": [],
   "source": [
    " coordinates = [(x,y) for x in range (1,5) for y in range (1,4)]"
   ]
  },
  {
   "cell_type": "code",
   "execution_count": 11,
   "id": "62ccc459-da4d-42bc-a5fe-b6cf75a832ec",
   "metadata": {},
   "outputs": [
    {
     "name": "stdout",
     "output_type": "stream",
     "text": [
      "[(1, 1), (1, 2), (1, 3), (2, 1), (2, 2), (2, 3), (3, 1), (3, 2), (3, 3), (4, 1), (4, 2), (4, 3)]\n"
     ]
    }
   ],
   "source": [
    "print(coordinates)"
   ]
  },
  {
   "cell_type": "code",
   "execution_count": 13,
   "id": "538992a5-0dac-465c-ad33-2843d190df8c",
   "metadata": {},
   "outputs": [],
   "source": [
    "student = {\n",
    "    \"Name\" : \"Arun\",\n",
    "    \"Age\" : 25,\n",
    "    \"marks\" : { \"Phy\" : 71, \"Chem\" : 88, \"Maths\" : 91 }\n",
    "}"
   ]
  },
  {
   "cell_type": "code",
   "execution_count": 15,
   "id": "f419fc39-8be3-4eab-9c1e-d4dbdffa532a",
   "metadata": {},
   "outputs": [
    {
     "name": "stdout",
     "output_type": "stream",
     "text": [
      "{'Name': 'Arun', 'Age': 25, 'marks': {'Phy': 71, 'Chem': 88, 'Maths': 91}}\n"
     ]
    }
   ],
   "source": [
    "print(student)"
   ]
  },
  {
   "cell_type": "code",
   "execution_count": 17,
   "id": "c9debfd7-d3d2-46d0-9c26-cb5f700840f6",
   "metadata": {},
   "outputs": [
    {
     "name": "stdout",
     "output_type": "stream",
     "text": [
      "{'Name': 'Arun', 'Age': 25, 'marks': {'Phy': 71, 'Chem': 88, 'Maths': 91}}\n"
     ]
    }
   ],
   "source": [
    "print(student)"
   ]
  },
  {
   "cell_type": "code",
   "execution_count": 19,
   "id": "fe147e61-62c0-464e-af5c-133651b6968e",
   "metadata": {},
   "outputs": [
    {
     "name": "stdout",
     "output_type": "stream",
     "text": [
      "Arun\n"
     ]
    }
   ],
   "source": [
    "print(student[\"Name\"])"
   ]
  },
  {
   "cell_type": "code",
   "execution_count": 21,
   "id": "17cfd7bb-f793-44a6-8bc3-c221f41e8e39",
   "metadata": {},
   "outputs": [],
   "source": [
    "student[\"Name\"] = \"Raju\""
   ]
  },
  {
   "cell_type": "code",
   "execution_count": 23,
   "id": "7990c48e-9204-400b-ad9e-7d572f656e5e",
   "metadata": {},
   "outputs": [
    {
     "name": "stdout",
     "output_type": "stream",
     "text": [
      "{'Name': 'Raju', 'Age': 25, 'marks': {'Phy': 71, 'Chem': 88, 'Maths': 91}}\n"
     ]
    }
   ],
   "source": [
    "print(student)"
   ]
  },
  {
   "cell_type": "code",
   "execution_count": 25,
   "id": "98af4e67-5cd0-4779-9135-284ccc5ad034",
   "metadata": {},
   "outputs": [
    {
     "name": "stdout",
     "output_type": "stream",
     "text": [
      "1\n",
      "3\n",
      "5\n",
      "7\n",
      "9\n"
     ]
    }
   ],
   "source": [
    "for i in range (1,10,2):\n",
    "    print(i)"
   ]
  },
  {
   "cell_type": "code",
   "execution_count": 21,
   "id": "117f5036-a1ad-4dad-9e64-821c6d8545ac",
   "metadata": {},
   "outputs": [
    {
     "name": "stdout",
     "output_type": "stream",
     "text": [
      "Prime numbers in the given set are:  {3, 7, 13, 17, 23, 29}\n"
     ]
    }
   ],
   "source": [
    "# wap to find prime numbers from the given set and add them to a new set\n",
    "sample = {3, 4, 7, 10, 13, 17, 20, 23, 25, 29}\n",
    "sample_prime = set()\n",
    "for item in sample:\n",
    "    if item > 1:\n",
    "        flag = 0\n",
    "        for i in range (2,item):\n",
    "            if item % i == 0:\n",
    "                flag = 1\n",
    "                break\n",
    "        if flag == 0:\n",
    "            sample_prime.add(item)\n",
    "\n",
    "print(\"Prime numbers in the given set are: \", sample_prime)"
   ]
  },
  {
   "cell_type": "code",
   "execution_count": 23,
   "id": "1e944897-f548-4571-849c-178f51e6d62c",
   "metadata": {},
   "outputs": [
    {
     "data": {
      "text/plain": [
       "[2, 4, 6, 8, 10]"
      ]
     },
     "execution_count": 23,
     "metadata": {},
     "output_type": "execute_result"
    }
   ],
   "source": [
    "list(range(2,11,2))"
   ]
  },
  {
   "cell_type": "code",
   "execution_count": 25,
   "id": "016289d8-1cc9-4309-b640-7f4ce51c0dae",
   "metadata": {},
   "outputs": [
    {
     "data": {
      "text/plain": [
       "(2, 4, 6, 8, 10)"
      ]
     },
     "execution_count": 25,
     "metadata": {},
     "output_type": "execute_result"
    }
   ],
   "source": [
    "tuple(range(2,11,2))"
   ]
  },
  {
   "cell_type": "code",
   "execution_count": 27,
   "id": "f49cb2ee-f198-4970-abc6-3a4e60e06076",
   "metadata": {},
   "outputs": [],
   "source": [
    "abcd = list(range(100,0,-1))"
   ]
  },
  {
   "cell_type": "code",
   "execution_count": 29,
   "id": "2648ac7a-5b19-4ff3-8707-74462b7d37e7",
   "metadata": {},
   "outputs": [
    {
     "name": "stdout",
     "output_type": "stream",
     "text": [
      "[100, 99, 98, 97, 96, 95, 94, 93, 92, 91, 90, 89, 88, 87, 86, 85, 84, 83, 82, 81, 80, 79, 78, 77, 76, 75, 74, 73, 72, 71, 70, 69, 68, 67, 66, 65, 64, 63, 62, 61, 60, 59, 58, 57, 56, 55, 54, 53, 52, 51, 50, 49, 48, 47, 46, 45, 44, 43, 42, 41, 40, 39, 38, 37, 36, 35, 34, 33, 32, 31, 30, 29, 28, 27, 26, 25, 24, 23, 22, 21, 20, 19, 18, 17, 16, 15, 14, 13, 12, 11, 10, 9, 8, 7, 6, 5, 4, 3, 2, 1]\n"
     ]
    }
   ],
   "source": [
    "print(abcd)"
   ]
  },
  {
   "cell_type": "code",
   "execution_count": 31,
   "id": "2d7a9b90-f955-4ab1-9678-b20a760bff32",
   "metadata": {},
   "outputs": [
    {
     "data": {
      "text/plain": [
       "[10, 9, 8, 7, 6, 5, 4, 3, 2, 1]"
      ]
     },
     "execution_count": 31,
     "metadata": {},
     "output_type": "execute_result"
    }
   ],
   "source": [
    "list(range(10,0,-1))"
   ]
  },
  {
   "cell_type": "code",
   "execution_count": 35,
   "id": "433fbff4-6116-4ae8-b9b3-118cac1cd2a4",
   "metadata": {},
   "outputs": [
    {
     "name": "stdout",
     "output_type": "stream",
     "text": [
      "1\n",
      "2\n",
      "3 Buzz\n",
      "4\n",
      "5 Fizz\n",
      "6 Buzz\n",
      "7\n",
      "8\n",
      "9 Buzz\n",
      "10 Fizz\n",
      "11\n",
      "12 Buzz\n",
      "13\n",
      "14\n",
      "15 buzz fizz\n",
      "16\n",
      "17\n",
      "18 Buzz\n",
      "19\n",
      "20 Fizz\n",
      "21 Buzz\n",
      "22\n",
      "23\n",
      "24 Buzz\n",
      "25 Fizz\n",
      "26\n",
      "27 Buzz\n",
      "28\n",
      "29\n",
      "30 buzz fizz\n",
      "31\n",
      "32\n",
      "33 Buzz\n",
      "34\n",
      "35 Fizz\n",
      "36 Buzz\n",
      "37\n",
      "38\n",
      "39 Buzz\n",
      "40 Fizz\n",
      "41\n",
      "42 Buzz\n",
      "43\n",
      "44\n",
      "45 buzz fizz\n",
      "46\n",
      "47\n",
      "48 Buzz\n",
      "49\n",
      "50 Fizz\n"
     ]
    }
   ],
   "source": [
    "# wap to print buzz if the number is a divisible of 3, fizz if its a divisible of 5, and buzz fizz if the number is divisible of both, for the numbers from 1 to 50\n",
    "for i in range(1,51):\n",
    "    if i % 3 == 0 and i % 5 == 0:\n",
    "        print(i,\"buzz fizz\")\n",
    "    elif i % 3 == 0:\n",
    "        print(i,\"Buzz\")\n",
    "    elif i % 5 == 0:\n",
    "        print(i,\"Fizz\")\n",
    "    else:\n",
    "        print(i)"
   ]
  },
  {
   "cell_type": "code",
   "execution_count": 39,
   "id": "2a30492f-9030-4f49-b031-38e1249bb899",
   "metadata": {},
   "outputs": [
    {
     "name": "stdin",
     "output_type": "stream",
     "text": [
      "Enter a number 5\n",
      "Enter another number 5\n"
     ]
    },
    {
     "name": "stdout",
     "output_type": "stream",
     "text": [
      "Entered numbers are equal\n"
     ]
    }
   ],
   "source": [
    "num1 = int(input(\"Enter a number\"))\n",
    "num2 = int(input(\"Enter another number\"))\n",
    "\n",
    "if num1 > num2:\n",
    "    print(\"First number is greater\")\n",
    "elif num2 > num1:\n",
    "    print(\"Second number is greater\")\n",
    "else:\n",
    "    print(\"Entered numbers are equal\")"
   ]
  },
  {
   "cell_type": "code",
   "execution_count": 41,
   "id": "25ee5673-5f61-41f6-9c9d-37fa269679d8",
   "metadata": {},
   "outputs": [
    {
     "data": {
      "text/plain": [
       "[2, 4, 6, 8, 10]"
      ]
     },
     "execution_count": 41,
     "metadata": {},
     "output_type": "execute_result"
    }
   ],
   "source": [
    "list(range(2,11,2))"
   ]
  },
  {
   "cell_type": "code",
   "execution_count": 43,
   "id": "47e0f266-d492-4013-ba5d-741e1c1da7d0",
   "metadata": {},
   "outputs": [
    {
     "data": {
      "text/plain": [
       "[10, 9, 8, 7, 6, 5, 4, 3, 2, 1]"
      ]
     },
     "execution_count": 43,
     "metadata": {},
     "output_type": "execute_result"
    }
   ],
   "source": [
    "list(range(10,0,-1))"
   ]
  },
  {
   "cell_type": "code",
   "execution_count": 45,
   "id": "da89fa11-6894-407d-9f4b-e94f34ffbc54",
   "metadata": {},
   "outputs": [
    {
     "name": "stdout",
     "output_type": "stream",
     "text": [
      "10\n",
      "9\n",
      "8\n",
      "7\n",
      "6\n",
      "5\n",
      "4\n",
      "3\n",
      "2\n",
      "1\n",
      "0\n"
     ]
    }
   ],
   "source": [
    "i = 10\n",
    "\n",
    "while i >= 0:\n",
    "    print(i)\n",
    "    i -= 1"
   ]
  },
  {
   "cell_type": "code",
   "execution_count": 47,
   "id": "1b9eff24-a042-45d2-b7ba-0c41703714bd",
   "metadata": {},
   "outputs": [
    {
     "name": "stdin",
     "output_type": "stream",
     "text": [
      "Enter first element in the list 11\n",
      "Enter second element in the list 12\n",
      "Enter third element in the list 13\n"
     ]
    },
    {
     "name": "stdout",
     "output_type": "stream",
     "text": [
      "12\n"
     ]
    }
   ],
   "source": [
    "#wap to accept to elements from the user, add that to a ist, find the average of the elements entered, and if the average is present in the list, print it\n",
    "\n",
    "my_list = []\n",
    "my_list.append(int(input(\"Enter first element in the list\")))\n",
    "my_list.append(int(input(\"Enter second element in the list\")))\n",
    "my_list.append(int(input(\"Enter third element in the list\")))\n",
    "\n",
    "my_list_avg = (my_list[0] + my_list[1] + my_list[2])/3\n",
    "\n",
    "for item in my_list:\n",
    "    if my_list_avg == item:\n",
    "        print(item)\n",
    "        "
   ]
  }
 ],
 "metadata": {
  "kernelspec": {
   "display_name": "Python [conda env:base] *",
   "language": "python",
   "name": "conda-base-py"
  },
  "language_info": {
   "codemirror_mode": {
    "name": "ipython",
    "version": 3
   },
   "file_extension": ".py",
   "mimetype": "text/x-python",
   "name": "python",
   "nbconvert_exporter": "python",
   "pygments_lexer": "ipython3",
   "version": "3.12.7"
  }
 },
 "nbformat": 4,
 "nbformat_minor": 5
}
